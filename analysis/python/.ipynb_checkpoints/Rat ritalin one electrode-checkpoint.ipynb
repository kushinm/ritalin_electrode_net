{
 "cells": [
  {
   "cell_type": "markdown",
   "metadata": {},
   "source": [
    "# Analysis of rat working-memory electrode data"
   ]
  },
  {
   "cell_type": "markdown",
   "metadata": {},
   "source": [
    "This notebook describes statistical analysis of intracranial EEG data collected from the brains of 8 rats while they performed an alternating T-maze task. 60 trials of data were collected from each rat. The first 30 were performed (?with/without?) drug, while the remaining 30 were performed (?with/without?). Classic single-unit analysis of the neural responses showed no differences in either PFC or dvStriatum neurons with/without drug, yet (1) rat performance was better with the drug and (2) methodological control ensured that the main site of action for the drug was in PFC. A central question is: How did performance improve if individual neuron behavior is not detectably different with the drug?\n",
    "\n",
    "One hypothesis is that the drug affects a distributed neural population code, rather than affecting the behavior of individual neurons. To test this hypothesis, we will apply multivariate pattern classifiers to intracranial voltage potential data collected at 250 Hz, to see if it is possible to predict the experimental condition (drug/no drug) from the time-series of these data.\n",
    "\n",
    "There are several potential approaches, but this notebook documents a simple initial analysis. From data collected from a single PFC electrode in each animal we will use regularized logistic regression, as implemented in the glmnet package, to predict drug condition for each animal individually. "
   ]
  },
  {
   "cell_type": "markdown",
   "metadata": {},
   "source": [
    "## Libraries"
   ]
  },
  {
   "cell_type": "code",
   "execution_count": 1,
   "metadata": {},
   "outputs": [
    {
     "ename": "NameError",
     "evalue": "name 'library' is not defined",
     "output_type": "error",
     "traceback": [
      "\u001b[0;31m---------------------------------------------------------------------------\u001b[0m",
      "\u001b[0;31mNameError\u001b[0m                                 Traceback (most recent call last)",
      "\u001b[0;32m<ipython-input-1-65cf994b517d>\u001b[0m in \u001b[0;36m<module>\u001b[0;34m()\u001b[0m\n\u001b[0;32m----> 1\u001b[0;31m \u001b[0mlibrary\u001b[0m\u001b[0;34m(\u001b[0m\u001b[0mglmnet\u001b[0m\u001b[0;34m)\u001b[0m\u001b[0;34m\u001b[0m\u001b[0m\n\u001b[0m",
      "\u001b[0;31mNameError\u001b[0m: name 'library' is not defined"
     ]
    }
   ],
   "source": [
    "library(glmnet)"
   ]
  },
  {
   "cell_type": "markdown",
   "metadata": {},
   "source": [
    "## Custom scripts"
   ]
  },
  {
   "cell_type": "markdown",
   "metadata": {},
   "source": [
    "The following custom scripts should be in the same working directory as this notebook."
   ]
  },
  {
   "cell_type": "code",
   "execution_count": 9,
   "metadata": {},
   "outputs": [],
   "source": [
    "trim.nas <- dget(\"trimnas.r\") #Removes columns of data containing NAs\n",
    "get.hoerr <- dget(\"get_hoerr.r\") #Computes hold-out error for a model across n folds\n",
    "plot.hoerr <- dget(\"plot_hoerr.r\") #Plots hold-out error data for all animals across n folds"
   ]
  },
  {
   "cell_type": "markdown",
   "metadata": {},
   "source": [
    "## Load data"
   ]
  },
  {
   "cell_type": "code",
   "execution_count": 10,
   "metadata": {},
   "outputs": [],
   "source": [
    "f <- paste(\"r\", 1:8, \".csv\", sep=\"\") #Vector of file names\n",
    "ratlist <- list(0) #Initialize list to contain data\n",
    "for(i1 in c(1:8)) ratlist[[i1]] <- trim.nas(read.csv(f[i1], header = F))"
   ]
  },
  {
   "cell_type": "markdown",
   "metadata": {},
   "source": [
    "Raw data are now stored in a list, with each list element containing a matrix in which rows are trials and columns are points in time sampled eery 4ms. NOTE that data were recorded over differing windows of time for different rats; consequently the number of columsn in each matrix is different:"
   ]
  },
  {
   "cell_type": "code",
   "execution_count": 11,
   "metadata": {},
   "outputs": [
    {
     "data": {
      "text/html": [
       "<ol class=list-inline>\n",
       "\t<li>60</li>\n",
       "\t<li>1847</li>\n",
       "</ol>\n"
      ],
      "text/latex": [
       "\\begin{enumerate*}\n",
       "\\item 60\n",
       "\\item 1847\n",
       "\\end{enumerate*}\n"
      ],
      "text/markdown": [
       "1. 60\n",
       "2. 1847\n",
       "\n",
       "\n"
      ],
      "text/plain": [
       "[1]   60 1847"
      ]
     },
     "metadata": {},
     "output_type": "display_data"
    }
   ],
   "source": [
    "dim(ratlist[[1]])"
   ]
  },
  {
   "cell_type": "code",
   "execution_count": 12,
   "metadata": {},
   "outputs": [
    {
     "data": {
      "text/html": [
       "<ol class=list-inline>\n",
       "\t<li>60</li>\n",
       "\t<li>2782</li>\n",
       "</ol>\n"
      ],
      "text/latex": [
       "\\begin{enumerate*}\n",
       "\\item 60\n",
       "\\item 2782\n",
       "\\end{enumerate*}\n"
      ],
      "text/markdown": [
       "1. 60\n",
       "2. 2782\n",
       "\n",
       "\n"
      ],
      "text/plain": [
       "[1]   60 2782"
      ]
     },
     "metadata": {},
     "output_type": "display_data"
    }
   ],
   "source": [
    "dim(ratlist[[2]])"
   ]
  },
  {
   "cell_type": "markdown",
   "metadata": {},
   "source": [
    "Finally, we create a vector containing binary labels for the conditions we wish to discrinimate (drug/no drug):"
   ]
  },
  {
   "cell_type": "code",
   "execution_count": 15,
   "metadata": {},
   "outputs": [],
   "source": [
    "y <- c(rep(0, times = 30), rep(1, times = 30))\n"
   ]
  },
  {
   "cell_type": "markdown",
   "metadata": {},
   "source": [
    "## Model fitting"
   ]
  },
  {
   "cell_type": "markdown",
   "metadata": {},
   "source": [
    "To fit a single model we use the cv.glmnet function from glmnet, which fits a glm with elastic net regularization. It takes an additional parameter alpha, which controls the mixing of L1 and L2 norms in the regularizer. The algorithm then fits a series of glms with different weights on the regularization parameter, using cross-validation to find the best-performing model. For a single animal this looks like this:"
   ]
  },
  {
   "cell_type": "code",
   "execution_count": 18,
   "metadata": {},
   "outputs": [
    {
     "data": {
      "image/png": "[encoded data removed]",
      "text/plain": [
       "plot without title"
      ]
     },
     "metadata": {},
     "output_type": "display_data"
    }
   ],
   "source": [
    "m <- cv.glmnet(ratlist[[1]], y, family=\"binomial\", alpha = 0.5)\n",
    "plot(m)"
   ]
  },
  {
   "cell_type": "markdown",
   "metadata": {},
   "source": [
    "To see how well the model fits the training data, you can use the predict function. This will return a vector of predictions, one for each training item, but not in the original binary [0,1] code. Instead numbers will range from -real to +real. To convert these to the original code, recode all positive numbers as 1 and all negatives as 0. This can then be compared to the true vector of labels:"
   ]
  },
  {
   "cell_type": "code",
   "execution_count": 21,
   "metadata": {},
   "outputs": [
    {
     "data": {
      "text/html": [
       "0.983333333333333"
      ],
      "text/latex": [
       "0.983333333333333"
      ],
      "text/markdown": [
       "0.983333333333333"
      ],
      "text/plain": [
       "[1] 0.9833333"
      ]
     },
     "metadata": {},
     "output_type": "display_data"
    }
   ],
   "source": [
    "p <- as.numeric(predict(m, ratlist[[1]]) > 0)\n",
    "sum(p==y)/length(y)"
   ]
  },
  {
   "cell_type": "markdown",
   "metadata": {},
   "source": [
    "So model does well on the training set. This is obviously not that interesting! Instead we want to fit a model on a subset of the data, then test it on held-out items to estimate the true model performance. With such a small data set, we probably want to do this multiple times, using a different held-out set each time. That is what the function get.hoerr loaded above does:"
   ]
  },
  {
   "cell_type": "code",
   "execution_count": 22,
   "metadata": {},
   "outputs": [
    {
     "data": {
      "text/html": [
       "<ol class=list-inline>\n",
       "\t<li>1</li>\n",
       "\t<li>1</li>\n",
       "\t<li>0.833333333333333</li>\n",
       "\t<li>0.833333333333333</li>\n",
       "\t<li>1</li>\n",
       "\t<li>1</li>\n",
       "\t<li>1</li>\n",
       "\t<li>1</li>\n",
       "\t<li>1</li>\n",
       "\t<li>0.833333333333333</li>\n",
       "</ol>\n"
      ],
      "text/latex": [
       "\\begin{enumerate*}\n",
       "\\item 1\n",
       "\\item 1\n",
       "\\item 0.833333333333333\n",
       "\\item 0.833333333333333\n",
       "\\item 1\n",
       "\\item 1\n",
       "\\item 1\n",
       "\\item 1\n",
       "\\item 1\n",
       "\\item 0.833333333333333\n",
       "\\end{enumerate*}\n"
      ],
      "text/markdown": [
       "1. 1\n",
       "2. 1\n",
       "3. 0.833333333333333\n",
       "4. 0.833333333333333\n",
       "5. 1\n",
       "6. 1\n",
       "7. 1\n",
       "8. 1\n",
       "9. 1\n",
       "10. 0.833333333333333\n",
       "\n",
       "\n"
      ],
      "text/plain": [
       " [1] 1.0000000 1.0000000 0.8333333 0.8333333 1.0000000 1.0000000 1.0000000\n",
       " [8] 1.0000000 1.0000000 0.8333333"
      ]
     },
     "metadata": {},
     "output_type": "display_data"
    }
   ],
   "source": [
    "tmp <- get.hoerr(ratlist[[1]], y, pho=0.1, a=.5)\n",
    "tmp"
   ]
  },
  {
   "cell_type": "markdown",
   "metadata": {},
   "source": [
    "Here pho is _proportion held out_. It determines what proportion of data will be used for the hold-out set in each fold, and hence the number of folds _n_. I often use 10%. The script then fits _n_ models, each with a different hold-out set, and returns prediction accuracy for each hold-out set. The mean hold-out error is the mean of the elements in the returned vector."
   ]
  },
  {
   "cell_type": "code",
   "execution_count": 23,
   "metadata": {},
   "outputs": [
    {
     "data": {
      "text/html": [
       "0.95"
      ],
      "text/latex": [
       "0.95"
      ],
      "text/markdown": [
       "0.95"
      ],
      "text/plain": [
       "[1] 0.95"
      ]
     },
     "metadata": {},
     "output_type": "display_data"
    }
   ],
   "source": [
    "mean(tmp)"
   ]
  },
  {
   "cell_type": "markdown",
   "metadata": {},
   "source": [
    "**NOTE** that you have to specify the mixing parameter alpha (denoted _a_ in the script). Different mixing parameters will yield different results. For a complete analysis we should search many values of alpha in the inner cross-validation loop before selecting parameters and evaluating on the hold-out set."
   ]
  },
  {
   "cell_type": "markdown",
   "metadata": {},
   "source": [
    "It is worth noting that, while rat 1's data allow for excellent prediction, this is not true of all animals. Here is rat 2:"
   ]
  },
  {
   "cell_type": "code",
   "execution_count": 24,
   "metadata": {},
   "outputs": [
    {
     "data": {
      "text/html": [
       "<ol class=list-inline>\n",
       "\t<li>0.833333333333333</li>\n",
       "\t<li>0.333333333333333</li>\n",
       "\t<li>0.333333333333333</li>\n",
       "\t<li>0.5</li>\n",
       "\t<li>0.333333333333333</li>\n",
       "\t<li>0.666666666666667</li>\n",
       "\t<li>0.666666666666667</li>\n",
       "\t<li>0.666666666666667</li>\n",
       "\t<li>0.833333333333333</li>\n",
       "\t<li>0.666666666666667</li>\n",
       "</ol>\n"
      ],
      "text/latex": [
       "\\begin{enumerate*}\n",
       "\\item 0.833333333333333\n",
       "\\item 0.333333333333333\n",
       "\\item 0.333333333333333\n",
       "\\item 0.5\n",
       "\\item 0.333333333333333\n",
       "\\item 0.666666666666667\n",
       "\\item 0.666666666666667\n",
       "\\item 0.666666666666667\n",
       "\\item 0.833333333333333\n",
       "\\item 0.666666666666667\n",
       "\\end{enumerate*}\n"
      ],
      "text/markdown": [
       "1. 0.833333333333333\n",
       "2. 0.333333333333333\n",
       "3. 0.333333333333333\n",
       "4. 0.5\n",
       "5. 0.333333333333333\n",
       "6. 0.666666666666667\n",
       "7. 0.666666666666667\n",
       "8. 0.666666666666667\n",
       "9. 0.833333333333333\n",
       "10. 0.666666666666667\n",
       "\n",
       "\n"
      ],
      "text/plain": [
       " [1] 0.8333333 0.3333333 0.3333333 0.5000000 0.3333333 0.6666667 0.6666667\n",
       " [8] 0.6666667 0.8333333 0.6666667"
      ]
     },
     "metadata": {},
     "output_type": "display_data"
    }
   ],
   "source": [
    "tmp <- get.hoerr(ratlist[[2]], y, pho=0.1, a=.5)\n",
    "tmp"
   ]
  },
  {
   "cell_type": "code",
   "execution_count": 25,
   "metadata": {},
   "outputs": [
    {
     "data": {
      "text/html": [
       "0.583333333333333"
      ],
      "text/latex": [
       "0.583333333333333"
      ],
      "text/markdown": [
       "0.583333333333333"
      ],
      "text/plain": [
       "[1] 0.5833333"
      ]
     },
     "metadata": {},
     "output_type": "display_data"
    }
   ],
   "source": [
    "mean(tmp)"
   ]
  },
  {
   "cell_type": "markdown",
   "metadata": {},
   "source": [
    "But you can see that performance improves with different mixing values. Alpha=0 is pure ridge regression---it takes longer for glmnet to fit because coefficients never go to zero. But for rat2 it produces better results:"
   ]
  },
  {
   "cell_type": "code",
   "execution_count": 27,
   "metadata": {},
   "outputs": [
    {
     "data": {
      "text/html": [
       "<ol class=list-inline>\n",
       "\t<li>0.833333333333333</li>\n",
       "\t<li>0.833333333333333</li>\n",
       "\t<li>0.666666666666667</li>\n",
       "\t<li>1</li>\n",
       "\t<li>0.833333333333333</li>\n",
       "\t<li>0.333333333333333</li>\n",
       "\t<li>0.5</li>\n",
       "\t<li>0.5</li>\n",
       "\t<li>0.833333333333333</li>\n",
       "\t<li>0.5</li>\n",
       "</ol>\n"
      ],
      "text/latex": [
       "\\begin{enumerate*}\n",
       "\\item 0.833333333333333\n",
       "\\item 0.833333333333333\n",
       "\\item 0.666666666666667\n",
       "\\item 1\n",
       "\\item 0.833333333333333\n",
       "\\item 0.333333333333333\n",
       "\\item 0.5\n",
       "\\item 0.5\n",
       "\\item 0.833333333333333\n",
       "\\item 0.5\n",
       "\\end{enumerate*}\n"
      ],
      "text/markdown": [
       "1. 0.833333333333333\n",
       "2. 0.833333333333333\n",
       "3. 0.666666666666667\n",
       "4. 1\n",
       "5. 0.833333333333333\n",
       "6. 0.333333333333333\n",
       "7. 0.5\n",
       "8. 0.5\n",
       "9. 0.833333333333333\n",
       "10. 0.5\n",
       "\n",
       "\n"
      ],
      "text/plain": [
       " [1] 0.8333333 0.8333333 0.6666667 1.0000000 0.8333333 0.3333333 0.5000000\n",
       " [8] 0.5000000 0.8333333 0.5000000"
      ]
     },
     "metadata": {},
     "output_type": "display_data"
    }
   ],
   "source": [
    "tmp <- get.hoerr(ratlist[[2]], y, pho=0.1, a=0)\n",
    "tmp"
   ]
  },
  {
   "cell_type": "code",
   "execution_count": 28,
   "metadata": {},
   "outputs": [
    {
     "data": {
      "text/html": [
       "0.683333333333333"
      ],
      "text/latex": [
       "0.683333333333333"
      ],
      "text/markdown": [
       "0.683333333333333"
      ],
      "text/plain": [
       "[1] 0.6833333"
      ]
     },
     "metadata": {},
     "output_type": "display_data"
    }
   ],
   "source": [
    "mean(tmp)"
   ]
  },
  {
   "cell_type": "markdown",
   "metadata": {},
   "source": [
    "## Estimating hoerr for all animals using ridge regression"
   ]
  },
  {
   "cell_type": "markdown",
   "metadata": {},
   "source": [
    "NOTE: This takes awhile to run since ridge is so slow"
   ]
  },
  {
   "cell_type": "code",
   "execution_count": 29,
   "metadata": {},
   "outputs": [
    {
     "data": {
      "image/png": "[encoded data removed]",
      "text/plain": [
       "plot without title"
      ]
     },
     "metadata": {},
     "output_type": "display_data"
    }
   ],
   "source": [
    "rat.hoerr <- matrix(0, 8, 10) #Initialize matrix to hold data hold-our error data for each animal\n",
    "for(i1 in c(1:8)) rat.hoerr[i1,] <- get.hoerr(ratlist[[i1]], y, pho=.1, a=0)\n",
    "plot.hoerr(rat.hoerr)"
   ]
  },
  {
   "cell_type": "code",
   "execution_count": null,
   "metadata": {},
   "outputs": [],
   "source": []
  }
 ],
 "metadata": {
  "kernelspec": {
   "display_name": "Python 2",
   "language": "python",
   "name": "python2"
  },
  "language_info": {
   "codemirror_mode": {
    "name": "ipython",
    "version": 2
   },
   "file_extension": ".py",
   "mimetype": "text/x-python",
   "name": "python",
   "nbconvert_exporter": "python",
   "pygments_lexer": "ipython2",
   "version": "2.7.15"
  }
 },
 "nbformat": 4,
 "nbformat_minor": 2
}
